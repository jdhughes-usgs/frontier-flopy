{
 "cells": [
  {
   "cell_type": "markdown",
   "metadata": {},
   "source": [
    "# MODFLOW API Paper\n",
    "\n",
    "# Create Trimesh Grid for McDonald Valley Problem for the \"Optimization of groundwater withdrawals\" example\n",
    "\n",
    "This notebook can be used to create the MODFLOW 6 datasets used by the \"Optimization of groundwater withdrawals\" example, as reported in the MODFLOW 6 API paper (in progress). This notebook should be run prior to running the `optimize_mv_api.ipynb` notebook.\n",
    "\n",
    "## Prerequisites\n",
    "To run the simulation and process the results, the following publicly available software and data are required:\n",
    "\n",
    "* __libmf6.dll__ (Windows) or __libmf6.so__ (linux or MacOS) pre-compiled dynamic-link library (dll)/shared object (so) and available from https://github.com/MODFLOW-USGS/executables. The operating specific pre-compiled dll/so should be installed in the `bin` subdirectory at the same level as the subdirectory containing this Jupyter Notebook (`../bin/`). \n",
    "* __mf6.exe__ (Windows) or __mf6__ (linux or MacOS) pre-compiled application and available from https://github.com/MODFLOW-USGS/executables. The operating specific pre-compiled application should be installed in the `bin` subdirectory at the same level as the subdirectory containing this Jupyter Notebook (`../bin/`). \n",
    "https://github.com/Deltares/xmipy.\n",
    "* __flopy__ is a python package that can be used to build, run, and post-process MODFLOW 6 models. The source is available at https://github.com/modflowpy/flopy and the package can be installed from PyPI using `pip install flopy` or conda using `conda install flopy`.\n",
    "    \n",
    "## Building the McDonald Valley MODFLOW 6 datasets\n",
    "\n",
    "We start by importing the necessary packages:"
   ]
  },
  {
   "cell_type": "code",
   "execution_count": null,
   "metadata": {},
   "outputs": [],
   "source": [
    "import os\n",
    "import sys\n",
    "import numpy as np\n",
    "import matplotlib as mpl\n",
    "import matplotlib.pyplot as plt\n",
    "\n",
    "import rasterio\n",
    "\n",
    "import flopy\n",
    "from flopy.utils.gridgen import Gridgen \n",
    "import flopy.plot.styles as styles\n",
    "\n",
    "print(sys.version)\n",
    "print('numpy version: {}'.format(np.__version__))\n",
    "print('matplotlib version: {}'.format(mpl.__version__))\n",
    "print('flopy version: {}'.format(flopy.__version__))"
   ]
  },
  {
   "cell_type": "markdown",
   "metadata": {},
   "source": [
    "\n",
    "_Define the name of the executable_"
   ]
  },
  {
   "cell_type": "code",
   "execution_count": null,
   "metadata": {},
   "outputs": [],
   "source": [
    "exe_name = \"mf6\"\n",
    "if sys.platform == \"win32\":\n",
    "    exe_name += \".exe\""
   ]
  },
  {
   "cell_type": "markdown",
   "metadata": {},
   "source": [
    "## Load external data"
   ]
  },
  {
   "cell_type": "code",
   "execution_count": null,
   "metadata": {},
   "outputs": [],
   "source": [
    "kaq = flopy.utils.Raster.load(\"./data/k_aq.asc\")\n",
    "kclay = flopy.utils.Raster.load(\"./data/k_clay.asc\")\n",
    "bot = flopy.utils.Raster.load(\"./data/bottom.asc\")"
   ]
  },
  {
   "cell_type": "markdown",
   "metadata": {},
   "source": [
    "## Create Structured Grid"
   ]
  },
  {
   "cell_type": "code",
   "execution_count": null,
   "metadata": {},
   "outputs": [],
   "source": [
    "nlay = 5\n",
    "nrow = 40\n",
    "ncol = 25\n",
    "shape2d = (nrow, ncol)\n",
    "shape3d = (nlay, nrow, ncol)\n",
    "delr, delc = 500., 500.\n",
    "delrs = np.ones(ncol, dtype=np.float32) * delr\n",
    "delcs = np.ones(nrow, dtype=np.float32) * delc\n",
    "top = np.ones(shape2d, dtype=np.float32) * 100.\n",
    "botm = np.zeros(shape3d, dtype=np.float32)\n",
    "botm[0] = -5.0\n",
    "botm[1] = -50.0\n",
    "botm[2] = -51.0\n",
    "botm[3] = -100.0\n",
    "botm[4] = bot.get_array(1)"
   ]
  },
  {
   "cell_type": "markdown",
   "metadata": {},
   "source": [
    "Build structured model grid"
   ]
  },
  {
   "cell_type": "code",
   "execution_count": null,
   "metadata": {},
   "outputs": [],
   "source": [
    "struct_grid = flopy.discretization.StructuredGrid(\n",
    "    nlay=1,\n",
    "    nrow=nrow,\n",
    "    ncol=ncol,\n",
    "    delr=delrs,\n",
    "    delc=delcs,\n",
    ")"
   ]
  },
  {
   "cell_type": "markdown",
   "metadata": {},
   "source": [
    "## Read the Trimesh File into Python"
   ]
  },
  {
   "cell_type": "code",
   "execution_count": null,
   "metadata": {},
   "outputs": [],
   "source": [
    "fname = './data/TriMesh_with_densified_contours.exp'\n",
    "with open(fname, 'r') as f:\n",
    "    lines = f.readlines()\n",
    "\n",
    "# read vertex info into a structured array\n",
    "vtmp = [line.strip().split()[1:] for line in lines if line.startswith('N')]\n",
    "dtype = [('ivert', int), ('x', float), ('y', float), ('label', '|S10'), ('ibound', int), ('elev', float)]\n",
    "vertices = np.empty((len(vtmp)), dtype=dtype)\n",
    "for i, line in enumerate(vtmp):\n",
    "    for j, val in enumerate(line):\n",
    "        vertices[i][j] = val\n",
    "\n",
    "# read element info into a structured array\n",
    "etmp = [line.strip().split()[1:] for line in lines if line.startswith('E')]\n",
    "dtype = [('icell', int), ('iv1', int), ('iv2', int), ('iv3', int), ('label', '|S10'), ('ibound', int), ('elev', float)]\n",
    "cells = np.empty((len(etmp)), dtype=dtype)\n",
    "for i, line in enumerate(etmp):\n",
    "    for j, val in enumerate(line):\n",
    "        cells[i][j] = val"
   ]
  },
  {
   "cell_type": "code",
   "execution_count": null,
   "metadata": {},
   "outputs": [],
   "source": [
    "verts = []\n",
    "for ivert, x, y, label, ibound, elev in vertices:\n",
    "    verts.append([x, y])\n",
    "verts = np.array(verts, dtype=np.float)\n",
    "    \n",
    "iverts = []\n",
    "for i, iv1, iv2, iv3, s, ibound, elev in list(cells):\n",
    "    iverts.append([iv3 - 1, iv2 - 1, iv1 - 1])\n",
    "    \n",
    "ncpl = len(iverts)\n",
    "nvert = verts.shape[0]"
   ]
  },
  {
   "cell_type": "markdown",
   "metadata": {},
   "source": [
    "## Calculate Centroids"
   ]
  },
  {
   "cell_type": "code",
   "execution_count": null,
   "metadata": {},
   "outputs": [],
   "source": [
    "# centroid and area array\n",
    "from flopy.utils.cvfdutil import centroid_of_polygon, area_of_polygon\n",
    "xcyc = np.empty((ncpl, 2), dtype=np.float)\n",
    "area = np.empty((ncpl), dtype=np.float)\n",
    "for icell in range(ncpl):\n",
    "    vlist = [(verts[ivert, 0], verts[ivert, 1]) for ivert in iverts[icell]]\n",
    "    xcyc[icell, 0], xcyc[icell, 1] = centroid_of_polygon(vlist)\n",
    "    area[icell] = abs(area_of_polygon(*zip(*vlist)))"
   ]
  },
  {
   "cell_type": "code",
   "execution_count": null,
   "metadata": {},
   "outputs": [],
   "source": [
    "# make temporary vertex grid for plotting and intersecting\n",
    "vertices = []\n",
    "for i in range(nvert):\n",
    "    vertices.append((i, verts[i, 0], verts[i, 1]))\n",
    "\n",
    "cell2d = []\n",
    "for i in range(ncpl):\n",
    "    cell2d.append([i, xcyc[i, 0], xcyc[i, 1], 3] + [iv for iv in iverts[i]])    \n",
    "\n",
    "vg_temp = flopy.discretization.VertexGrid(vertices=vertices, cell2d=cell2d, \n",
    "                                          nlay=1, ncpl=len(cell2d))"
   ]
  },
  {
   "cell_type": "markdown",
   "metadata": {},
   "source": [
    "Plot the DISV grid"
   ]
  },
  {
   "cell_type": "code",
   "execution_count": null,
   "metadata": {},
   "outputs": [],
   "source": [
    "grid_verts = vg_temp.verts\n",
    "xcc, ycc = vg_temp.xyzcellcenters[:2]"
   ]
  },
  {
   "cell_type": "code",
   "execution_count": null,
   "metadata": {},
   "outputs": [],
   "source": [
    "with styles.USGSMap():\n",
    "    fig = plt.figure(figsize=(8, 12))\n",
    "    ax = fig.add_subplot(1, 1, 1, aspect='equal')\n",
    "    mm = flopy.plot.PlotMapView(modelgrid=vg_temp)\n",
    "    mm.plot_grid()\n",
    "    plt.plot(xcc, ycc, 'ko', markersize=1.)\n",
    "    plt.plot(grid_verts[:,0], grid_verts[:,1], 'rs', markersize=1.5)"
   ]
  },
  {
   "cell_type": "markdown",
   "metadata": {},
   "source": [
    "## Intersect the Grid with the Property Arrays"
   ]
  },
  {
   "cell_type": "code",
   "execution_count": null,
   "metadata": {},
   "outputs": [],
   "source": [
    "kaq_tm = kaq.resample_to_grid(vg_temp,\n",
    "                              band=kaq.bands[0],\n",
    "                              method=\"nearest\")"
   ]
  },
  {
   "cell_type": "code",
   "execution_count": null,
   "metadata": {},
   "outputs": [],
   "source": [
    "fig = plt.figure(figsize=(15, 15))\n",
    "ax = fig.add_subplot(1, 2, 1, aspect='equal')\n",
    "mm = flopy.plot.PlotMapView(modelgrid=struct_grid, ax=ax)\n",
    "mm.plot_array(kaq.get_array(1), cmap='jet')\n",
    "\n",
    "ax = fig.add_subplot(1, 2, 2, aspect='equal')\n",
    "mm = flopy.plot.PlotMapView(modelgrid=vg_temp, ax=ax)\n",
    "mm.plot_array(kaq_tm, cmap='jet')\n",
    "#mm.plot_cvfd(verts, iverts, a=kaq_tm, edgecolor='none', cmap='jet')\n",
    "plt.xlim(verts[:, 0].min(), verts[:, 0].max())\n",
    "plt.ylim(verts[:, 1].min(), verts[:, 1].max())"
   ]
  },
  {
   "cell_type": "code",
   "execution_count": null,
   "metadata": {},
   "outputs": [],
   "source": [
    "kclay_tm = kclay.resample_to_grid(vg_temp,\n",
    "                                  band=kclay.bands[0],\n",
    "                                  method=\"nearest\")"
   ]
  },
  {
   "cell_type": "code",
   "execution_count": null,
   "metadata": {},
   "outputs": [],
   "source": [
    "with styles.USGSMap():\n",
    "    fig = plt.figure(figsize=(15, 15))\n",
    "    ax = fig.add_subplot(1, 2, 1, aspect='equal')\n",
    "    mm = flopy.plot.PlotMapView(modelgrid=struct_grid, ax=ax)\n",
    "    mm.plot_array(kclay.get_array(1), cmap='jet')\n",
    "\n",
    "    ax = fig.add_subplot(1, 2, 2, aspect='equal')\n",
    "    mm = flopy.plot.PlotMapView(modelgrid=vg_temp, ax=ax)\n",
    "    mm.plot_array(kclay_tm, cmap='jet')\n",
    "    plt.xlim(verts[:, 0].min(), verts[:, 0].max())\n",
    "    plt.ylim(verts[:, 1].min(), verts[:, 1].max())"
   ]
  },
  {
   "cell_type": "code",
   "execution_count": null,
   "metadata": {},
   "outputs": [],
   "source": [
    "bot_tm = bot.resample_to_grid(vg_temp,\n",
    "                              band=bot.bands[0],\n",
    "                              method=\"nearest\")"
   ]
  },
  {
   "cell_type": "code",
   "execution_count": null,
   "metadata": {},
   "outputs": [],
   "source": [
    "with styles.USGSMap():\n",
    "    fig = plt.figure(figsize=(15, 15))\n",
    "    ax = fig.add_subplot(1, 2, 1, aspect='equal')\n",
    "    mm = flopy.plot.PlotMapView(modelgrid=struct_grid, ax=ax)\n",
    "    mm.plot_array(bot.get_array(1), cmap='jet')\n",
    "\n",
    "    ax = fig.add_subplot(1, 2, 2, aspect='equal')\n",
    "    mm = flopy.plot.PlotMapView(modelgrid=vg_temp, ax=ax)\n",
    "    mm.plot_array(bot_tm, cmap='jet')"
   ]
  },
  {
   "cell_type": "markdown",
   "metadata": {},
   "source": [
    "## Intersect the Features with the Grid"
   ]
  },
  {
   "cell_type": "code",
   "execution_count": null,
   "metadata": {},
   "outputs": [],
   "source": [
    "ibd = cells['ibound']\n",
    "with styles.USGSMap():\n",
    "    fig = plt.figure(figsize=(15, 15))\n",
    "    ax = fig.add_subplot(1, 1, 1, aspect='equal')\n",
    "    mm = flopy.plot.PlotMapView(modelgrid=vg_temp)\n",
    "    mm.plot_array(ibd, cmap='jet')"
   ]
  },
  {
   "cell_type": "code",
   "execution_count": null,
   "metadata": {},
   "outputs": [],
   "source": [
    "iriv = 1\n",
    "iwel = 2\n",
    "ilak = 3\n",
    "\n",
    "idx = cells['ibound'] == iriv\n",
    "\n",
    "rbot = -2.\n",
    "ct = 0.\n",
    "at = 0.\n",
    "\n",
    "# cond_scale is needed to make sure the total conductance\n",
    "# is similar to what is in the regular grid.\n",
    "cond_scale = 10.28\n",
    "rivspd = []\n",
    "for ip1, iv1, iv2, iv3, txt, ibound, elev in cells[idx]:\n",
    "    icell = ip1 - 1\n",
    "    distance = xcyc[icell, 1]\n",
    "    stage = 0. + distance / (18 * delc)\n",
    "    cond = 1.e5\n",
    "    cond = cond / (delc * delr) * area[icell]\n",
    "    cond = cond * cond_scale\n",
    "    ct += cond\n",
    "    at += area[icell]\n",
    "    rivspd.append([(0, icell), stage, cond, rbot])"
   ]
  },
  {
   "cell_type": "code",
   "execution_count": null,
   "metadata": {},
   "outputs": [],
   "source": [
    "iriv = 1\n",
    "iwel = 2\n",
    "ilak = 3\n",
    "idx = cells['ibound'] == ilak\n",
    "chdspd = [[(0, ip1 - 1), 11.] for ip1, iv1, iv2, iv3, txt, ibound, elev in cells[idx]]"
   ]
  },
  {
   "cell_type": "code",
   "execution_count": null,
   "metadata": {},
   "outputs": [],
   "source": [
    "# first well is Virginia City well site 2\n",
    "# second well is Reilly well\n",
    "# third well is Virginia City well site 1\n",
    "idx = cells['ibound'] == iwel\n",
    "boundname = ['VC2', 'Reilly', 'VC1']\n",
    "welspd = [[(4, ip1 - 1), 0.] for ip1, iv1, iv2, iv3, txt, ibound, elev in cells[idx]]\n",
    "welspd = [[cellid, rate, boundname[i]] for i, (cellid, rate) in enumerate(welspd)]\n",
    "welspd"
   ]
  },
  {
   "cell_type": "markdown",
   "metadata": {},
   "source": [
    "## Build the Model"
   ]
  },
  {
   "cell_type": "code",
   "execution_count": null,
   "metadata": {},
   "outputs": [],
   "source": [
    "ws = './temp/mvmodel'\n",
    "name = 'mv'\n",
    "sim = flopy.mf6.MFSimulation(sim_ws=ws, sim_name=name, exe_name=exe_name)\n",
    "tdis = flopy.mf6.ModflowTdis(sim)\n",
    "ims = flopy.mf6.ModflowIms(sim, complexity='complex')\n",
    "gwf = flopy.mf6.ModflowGwf(sim, modelname=name, save_flows=True)\n",
    "dis = flopy.mf6.ModflowGwfdisv(gwf, nlay=5, ncpl=ncpl, nvert=nvert, \n",
    "                               top=cells['elev'],\n",
    "                               botm=[-5, -50, -51, -100., bot_tm],\n",
    "                               vertices=vertices, cell2d=cell2d)\n",
    "ic = flopy.mf6.ModflowGwfic(gwf, strt=11.)\n",
    "npf = flopy.mf6.ModflowGwfnpf(gwf, \n",
    "                              xt3doptions=True, save_specific_discharge=True,\n",
    "                              icelltype=[1, 0, 0, 0, 0],\n",
    "                              k=[kaq_tm, kaq_tm, kclay_tm, kaq_tm, kaq_tm],\n",
    "                              k33=[0.25 * kaq_tm, 0.25 * kaq_tm, kclay_tm, 0.25 * kaq_tm, 0.25 * kaq_tm])\n",
    "chd = flopy.mf6.ModflowGwfchd(gwf, stress_period_data=chdspd)\n",
    "rch = flopy.mf6.ModflowGwfrcha(gwf, recharge=.003641)\n",
    "riv = flopy.mf6.ModflowGwfriv(gwf, stress_period_data=rivspd)\n",
    "wel = flopy.mf6.ModflowGwfwel(gwf, stress_period_data=welspd, boundnames=True)\n",
    "oc = flopy.mf6.ModflowGwfoc(gwf, \n",
    "                            head_filerecord=name + '.hds', \n",
    "                            budget_filerecord=name + '.bud',\n",
    "                            saverecord=[('HEAD', 'ALL'), ('BUDGET', 'ALL')],\n",
    "                            printrecord=[('HEAD', 'ALL'), ('BUDGET', 'ALL')])\n",
    "sim.write_simulation()\n",
    "sim.run_simulation()"
   ]
  },
  {
   "cell_type": "markdown",
   "metadata": {},
   "source": [
    "## Post-Process the Results"
   ]
  },
  {
   "cell_type": "code",
   "execution_count": null,
   "metadata": {},
   "outputs": [],
   "source": [
    "head = gwf.output.head().get_data()[:, 0, :]\n",
    "spdis = gwf.output.budget().get_data(text='DATA-SPDIS')[0]"
   ]
  },
  {
   "cell_type": "code",
   "execution_count": null,
   "metadata": {},
   "outputs": [],
   "source": [
    "ilay = 0\n",
    "\n",
    "with styles.USGSMap():\n",
    "    fig = plt.figure(figsize=(15, 15))\n",
    "    ax = fig.add_subplot(1, 2, 1, aspect='equal')\n",
    "    pmv = flopy.plot.PlotMapView(gwf, ax=ax, layer=ilay)\n",
    "    pmv.plot_array(head, cmap='jet', ec='gray')\n",
    "    #pmv.plot_grid()\n",
    "\n",
    "with styles.USGSMap():\n",
    "    ax = fig.add_subplot(1, 2, 2, aspect='equal')\n",
    "    pmv = flopy.plot.PlotMapView(gwf, ax=ax, layer=ilay)\n",
    "    pmv.contour_array(head, levels=np.arange(20))\n",
    "    pmv.plot_vector(spdis[\"qx\"], spdis[\"qy\"])"
   ]
  },
  {
   "cell_type": "markdown",
   "metadata": {},
   "source": [
    "# Figure for Paper"
   ]
  },
  {
   "cell_type": "code",
   "execution_count": null,
   "metadata": {},
   "outputs": [],
   "source": [
    "figwidth = 85 # mm\n",
    "figwidth = figwidth / 10 / 2.54 # inches\n",
    "\n",
    "figheight = 100 # mm\n",
    "figheight = figheight / 10 / 2.54 # inches\n",
    "\n",
    "with styles.USGSMap():\n",
    "\n",
    "    fig = plt.figure(\n",
    "        figsize=(figwidth, figheight),\n",
    "        constrained_layout=True,\n",
    "    )\n",
    "    ax = fig.add_subplot(1, 1, 1)\n",
    "    # ax.set_aspect('equal')\n",
    "    pmv = flopy.plot.PlotMapView(gwf, ax=ax, layer=ilay)\n",
    "\n",
    "    pa = pmv.plot_array(head, cmap='viridis_r', ec='none', alpha=0.7)\n",
    "    pmv.plot_grid(linewidths=0.2, colors='black')\n",
    "\n",
    "    iplot = np.ones(cells['ibound'].shape, dtype=np.int)\n",
    "    idx = cells['ibound'] == iriv\n",
    "    iplot[idx] = -1\n",
    "    pmv.plot_ibound(iplot, color_ch='cyan')\n",
    "\n",
    "    wellnames = ['A', 'B', 'C']\n",
    "    idx = cells['ibound'] == iwel\n",
    "    for idx, icell in enumerate(cells['icell'][idx]):\n",
    "        x, y = xcyc[icell]\n",
    "        ax.plot(x, y, 'ro', markersize=2)\n",
    "        s = wellnames.pop(0)\n",
    "        s = \"Well {}\".format(s)\n",
    "        if idx == 0:\n",
    "            xx = x - 250\n",
    "            ha = \"right\"\n",
    "        else:\n",
    "            xx = x + 250\n",
    "            ha = \"left\"\n",
    "        styles.add_text(\n",
    "            ax, \n",
    "            text=s, \n",
    "            x=xx, \n",
    "            y=y+250, \n",
    "            color='white', \n",
    "            transform=False, \n",
    "            bold=False, \n",
    "            italic=False,\n",
    "            va=\"center\", \n",
    "            ha=ha,\n",
    "        )    \n",
    "\n",
    "    styles.add_text(\n",
    "        ax, \n",
    "        text=\"Lake\", \n",
    "        x=2750, \n",
    "        y=15000, \n",
    "        color='white', \n",
    "        transform=False, \n",
    "        bold=False, \n",
    "        italic=False,\n",
    "        va=\"center\", \n",
    "        ha=\"center\",\n",
    "    )\n",
    "    styles.add_text(\n",
    "        ax, \n",
    "        text=\"River\", \n",
    "        x=5000, \n",
    "        y=5000, \n",
    "        color='white', \n",
    "        transform=False, \n",
    "        bold=False, \n",
    "        italic=False,\n",
    "        va=\"center\", \n",
    "        ha=\"center\",\n",
    "        rotation=\"vertical\",\n",
    "    )\n",
    "\n",
    "    ax.set_xlabel('x position (m)')\n",
    "    ax.set_ylabel('y position (m)')\n",
    "    cbar = fig.colorbar(pa, shrink=0.68)\n",
    "    cbar.ax.set_ylabel('head (m)')\n",
    "\n",
    "    fname = os.path.join(\"..\", 'doc', 'figures', 'mf6opt.png')\n",
    "    plt.savefig(fname, dpi=600)"
   ]
  },
  {
   "cell_type": "code",
   "execution_count": null,
   "metadata": {},
   "outputs": [],
   "source": []
  }
 ],
 "metadata": {
  "kernelspec": {
   "display_name": "Python 3",
   "language": "python",
   "name": "python3"
  },
  "language_info": {
   "codemirror_mode": {
    "name": "ipython",
    "version": 3
   },
   "file_extension": ".py",
   "mimetype": "text/x-python",
   "name": "python",
   "nbconvert_exporter": "python",
   "pygments_lexer": "ipython3",
   "version": "3.8.10"
  }
 },
 "nbformat": 4,
 "nbformat_minor": 4
}
